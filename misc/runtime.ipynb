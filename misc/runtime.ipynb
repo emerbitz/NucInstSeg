{
 "cells": [
  {
   "cell_type": "code",
   "execution_count": 1,
   "metadata": {
    "pycharm": {
     "name": "#%%\n"
    }
   },
   "outputs": [
    {
     "name": "stderr",
     "output_type": "stream",
     "text": [
      "/home/ubuntu/NucInstSeg/venv/lib/python3.8/site-packages/tqdm/auto.py:22: TqdmWarning: IProgress not found. Please update jupyter and ipywidgets. See https://ipywidgets.readthedocs.io/en/stable/user_install.html\n",
      "  from .autonotebook import tqdm as notebook_tqdm\n"
     ]
    }
   ],
   "source": [
    "from typing import List, Tuple\n",
    "from scipy.stats import _stats_py\n",
    "import numpy as np\n",
    "import torch\n",
    "from torch import Tensor\n",
    "from scipy.optimize import linear_sum_assignment\n",
    "from scipy.ndimage import center_of_mass\n",
    "\n",
    "from data.MoNuSeg.dataset import MoNuSeg\n",
    "from data.MoNuSeg.data_module import MoNuSegDataModule\n",
    "from augmentation.augmentations import *\n",
    "from evaluation.utils import tensor_intersection, tensor_union, intersection_over_union\n",
    "from data.MoNuSeg.ground_truth import NucleiInstances\n",
    "from data.MoNuSeg.illustrator import Picture\n",
    "from data.MoNuSeg.utils import get_bbox, cuda_tensor_to_ndarray\n",
    "from data.MoNuSeg.ground_truth import NucleiInstances"
   ]
  },
  {
   "cell_type": "code",
   "execution_count": 2,
   "metadata": {
    "pycharm": {
     "name": "#%%\n"
    }
   },
   "outputs": [],
   "source": [
    "def welch(m1: float, m2: float,v1: float, v2: float, n1: int, n2: int, alternative: str=\"two-sided\") -> float:\n",
    "    \"\"\"\n",
    "    Welch t-test\n",
    "\n",
    "    The Welch t-test assumes normal-distributed populations with unequal variances.\n",
    "\n",
    "    alternative : {'two-sided', 'less', 'greater'}, optional\n",
    "    \"\"\"\n",
    "    df, denom = _stats_py._unequal_var_ttest_denom(v1, n1, v2, n2)\n",
    "    return _stats_py._ttest_ind_from_stats(m1, m2, denom, df, alternative)[1]"
   ]
  },
  {
   "cell_type": "code",
   "execution_count": 3,
   "metadata": {
    "pycharm": {
     "name": "#%%\n"
    }
   },
   "outputs": [],
   "source": [
    "def setup():\n",
    "    data_module = MoNuSegDataModule(\n",
    "    seg_masks=True,\n",
    "    cont_masks=True,\n",
    "    dist_maps=True,\n",
    "    hv_maps=True,\n",
    "    labels=False,\n",
    "    data_root=\"datasets\"\n",
    "    )\n",
    "\n",
    "    data_module.setup(stage=\"test\")\n",
    "    loader = data_module.test_dataloader()\n",
    "    batch = next(iter(loader))\n",
    "\n",
    "\n",
    "\n",
    "    i = 7\n",
    "    return [gt[i] for gt in batch.values()]"
   ]
  },
  {
   "cell_type": "code",
   "execution_count": 4,
   "metadata": {
    "pycharm": {
     "name": "#%%\n"
    }
   },
   "outputs": [],
   "source": [
    "img, seg_mask, cont_mask, dist_map, gt, hv_map = setup()\n",
    "seg_mask = cuda_tensor_to_ndarray(seg_mask)\n",
    "dist_map = cuda_tensor_to_ndarray(dist_map)"
   ]
  },
  {
   "cell_type": "code",
   "execution_count": 5,
   "metadata": {
    "pycharm": {
     "name": "#%%\n"
    }
   },
   "outputs": [],
   "source": [
    "def fn0():\n",
    "    default = {\n",
    "        \"a\": 0,\n",
    "        \"b\": 1,\n",
    "        \"c\": 2\n",
    "    }\n",
    "    new = {\n",
    "        \"d\": 3,\n",
    "        \"e\": 4\n",
    "    }\n",
    "    return {**default, **new}"
   ]
  },
  {
   "cell_type": "code",
   "execution_count": 14,
   "metadata": {
    "pycharm": {
     "name": "#%%\n"
    }
   },
   "outputs": [],
   "source": [
    "def fn1():\n",
    "    default = {\n",
    "        \"a\": 0,\n",
    "        \"b\": 1,\n",
    "        \"c\": 2\n",
    "    }\n",
    "    new = {\n",
    "        \"d\": 3,\n",
    "        \"e\": 4\n",
    "    }\n",
    "    return new.update(default)"
   ]
  },
  {
   "cell_type": "code",
   "execution_count": 17,
   "metadata": {
    "pycharm": {
     "name": "#%%\n"
    }
   },
   "outputs": [
    {
     "name": "stdout",
     "output_type": "stream",
     "text": [
      "261.53 ns ± 13.809 ns per loop (mean ± std. dev. of 200 runs, 100,000 loops each)\n"
     ]
    }
   ],
   "source": [
    "%timeit -r 20 -n 100000 -p 5 fn0()"
   ]
  },
  {
   "cell_type": "code",
   "execution_count": 18,
   "metadata": {
    "pycharm": {
     "name": "#%%\n"
    }
   },
   "outputs": [
    {
     "name": "stdout",
     "output_type": "stream",
     "text": [
      "265.77 ns ± 1.7601 ns per loop (mean ± std. dev. of 200 runs, 100,000 loops each)\n"
     ]
    }
   ],
   "source": [
    "%timeit -r 20 -n 100000 -p 5 fn1()"
   ]
  },
  {
   "cell_type": "code",
   "execution_count": null,
   "metadata": {
    "pycharm": {
     "name": "#%%\n"
    }
   },
   "outputs": [],
   "source": [
    "welch(m1=14.779,m2=13.157,v1=0.407,v2=0.146,n1=20,n2=20)"
   ]
  },
  {
   "cell_type": "code",
   "execution_count": 14,
   "metadata": {},
   "outputs": [
    {
     "data": {
      "text/plain": [
       "dtype('int32')"
      ]
     },
     "execution_count": 14,
     "metadata": {},
     "output_type": "execute_result"
    }
   ],
   "source": [
    "fn0(dist_map).dtype"
   ]
  }
 ],
 "metadata": {
  "kernelspec": {
   "display_name": "Python 3 (ipykernel)",
   "language": "python",
   "name": "python3"
  },
  "language_info": {
   "codemirror_mode": {
    "name": "ipython",
    "version": 3
   },
   "file_extension": ".py",
   "mimetype": "text/x-python",
   "name": "python",
   "nbconvert_exporter": "python",
   "pygments_lexer": "ipython3",
   "version": "3.8.10"
  }
 },
 "nbformat": 4,
 "nbformat_minor": 1
}
