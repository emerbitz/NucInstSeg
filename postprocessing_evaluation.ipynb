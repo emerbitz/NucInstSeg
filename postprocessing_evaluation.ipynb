{
 "cells": [
  {
   "cell_type": "markdown",
   "metadata": {
    "pycharm": {
     "name": "#%% md\n"
    }
   },
   "source": [
    "# Evaluation of postprocessing approaches"
   ]
  },
  {
   "cell_type": "markdown",
   "metadata": {
    "pycharm": {
     "name": "#%% md\n"
    }
   },
   "source": [
    "## Overview\n",
    "In general, nuclei instance segmentation can be formulated as a classification or a regression problem. Hence, the model's objective is to learn a segmentation mask or a distance map for the classification and regression problem, respectively. In a segmentation mask, each pixel is assigned to a certain class. Such a class might be background, nucleus, nucleus center or nucleus border. In a binary segmentation mask, each pixel represents the probability of the pixel belonging to one of the two classes (e.g. nucleus vs. background). In a distance map, each pixel stats the minimal distance between the pixel and a pixel of a certain class. The chessboard distance is commonly used as distance measure. However, other distance measures like the Manhattan or Euclidian distance could be used as well. Moreover, the distance might be calculated along a certain direction and the distance map normalized. A collection of possible design choices for segmentation masks and distance maps is presented below.\n",
    "\n",
    "**Segmentation mask S**\n",
    "- Classes: Background, nucleus, nucleus contour, nucleus border etc.\n",
    "\n",
    "**Distance map D**\n",
    "- Distance measure: Manhattan distance, Chessboard distance, Euclidian distance etc.\n",
    "- Direction: None, vertical, horizontal, etc.\n",
    "- Normalization: None, per-instance-normalized, per-image-normalized, per-dataset-normalized\n",
    "- Classes: Background, nucleus, nucleus center, nucleus contour etc.\n",
    "\n",
    "The individual design choices and the combination of multiple segmentation masks or distances maps allow for different postprocessing strategies.\n",
    "- S(nucleus): Morphological operations (opening etc.), watershed, clustering, (MDL-constrained) periodic B-splines, Leonidas Spaß etc.\n",
    "- S(nucleus), S(contour): S(nucleus) & ~S(contours) -> watershed (-> dilation/h-maxima reconstruction)"
   ]
  },
  {
   "cell_type": "markdown",
   "metadata": {
    "pycharm": {
     "name": "#%% md\n"
    }
   },
   "source": [
    "## Aim\n",
    "Here, a qualitative and quantitative evaluation of the following postprocessing approaches is presented:\n",
    "- Standard: S(nucleus) & ~S(contours)\n",
    "- Naylor et al. 2019: D(background) using dynamic watershed\n",
    "- HoVer-Net et al. 2019: D_v and D_h"
   ]
  },
  {
   "cell_type": "code",
   "execution_count": 1,
   "metadata": {
    "pycharm": {
     "name": "#%%\n"
    }
   },
   "outputs": [],
   "source": [
    "from data.MoNuSeg.data_module import MoNuSegDataModule\n",
    "from evaluation.metrics import AJI, PQ\n",
    "from postprocessing.segmentation import SegPostProcess, DistPostProcess, HVPostProcess\n",
    "from data.MoNuSeg.ground_truth import NucleiInstances\n",
    "from data.MoNuSeg.illustrator import Picture"
   ]
  },
  {
   "cell_type": "code",
   "execution_count": 2,
   "metadata": {
    "pycharm": {
     "name": "#%%\n"
    }
   },
   "outputs": [],
   "source": [
    "data_module = MoNuSegDataModule(\n",
    "    seg_masks=True,\n",
    "    cont_masks=True,\n",
    "    dist_maps=True,\n",
    "    hv_maps=True,\n",
    "    labels=False,\n",
    "    train_transforms=None,\n",
    "    data_root=\"datasets\"\n",
    ")\n",
    "# data_module.prepare_data()\n",
    "data_module.setup(stage=\"fit\")\n",
    "train_loader = data_module.train_dataloader()"
   ]
  },
  {
   "cell_type": "code",
   "execution_count": 3,
   "metadata": {
    "pycharm": {
     "name": "#%%\n"
    }
   },
   "outputs": [
    {
     "name": "stdout",
     "output_type": "stream",
     "text": [
      "######### HoVer #########\n",
      "AJI: 0.8732954263687134\n",
      "SQ: 0.9730230569839478\n",
      "DQ: 0.9455816745758057\n",
      "PQ: 0.9200727939605713\n"
     ]
    }
   ],
   "source": [
    "# optn, dilate = \"skimage\", True\n",
    "param, thresh = 3, 0\n",
    "run_al_postprocess, run_dist_postprocess, run_hover_postprocess = False, False, True\n",
    "\n",
    "aji_al, aji_dist, aji_hover = AJI(), AJI(), AJI()\n",
    "pq_al, pq_dist, pq_hover = PQ(), PQ(), PQ()\n",
    "\n",
    "al_postprocess = SegPostProcess()\n",
    "dist_postprocess = DistPostProcess(param=param, thresh=thresh)\n",
    "hover_postprocess = HVPostProcess()\n",
    "\n",
    "for batch_num, (imgs, seg_masks, cont_masks, dist_maps, hv_maps, inst) in enumerate(train_loader):\n",
    "    if run_al_postprocess:\n",
    "        inst_al = al_postprocess(seg_masks, cont_masks)\n",
    "        aji_al.update(inst_al, inst)\n",
    "        pq_al.update(inst_al, inst)\n",
    "\n",
    "    if run_dist_postprocess:\n",
    "        inst_dist = dist_postprocess(dist_maps)\n",
    "        aji_dist.update(inst_dist, inst)\n",
    "        pq_dist.update(inst_dist, inst)\n",
    "\n",
    "    if run_hover_postprocess:\n",
    "        inst_hover = hover_postprocess(hv_maps, seg_masks)\n",
    "        aji_hover.update(inst_hover, inst)\n",
    "        pq_hover.update(inst_hover, inst)\n",
    "\n",
    "if run_al_postprocess:\n",
    "    aji_score_al = aji_al.compute()\n",
    "    pq_score_al = pq_al.compute()\n",
    "    print(\"######### AL #########\")\n",
    "    # print(f\"Option: {optn}\")\n",
    "    # print(f\"Dilate: {dilate}\")\n",
    "    print(f\"AJI: {aji_score_al['AJI']}\")\n",
    "    print(f\"SQ: {pq_score_al['SQ']}\")\n",
    "    print(f\"DQ: {pq_score_al['DQ']}\")\n",
    "    print(f\"PQ: {pq_score_al['PQ']}\")\n",
    "\n",
    "if run_dist_postprocess:\n",
    "    aji_score_dist = aji_dist.compute()\n",
    "    pq_score_dist = pq_dist.compute()\n",
    "    print(\"######### DIST #########\")\n",
    "    print(f\"Parameter: {param}\")\n",
    "    print(f\"Threshold: {thresh}\")\n",
    "    print(f\"AJI: {aji_score_dist['AJI']}\")\n",
    "    print(f\"SQ: {pq_score_dist['SQ']}\")\n",
    "    print(f\"DQ: {pq_score_dist['DQ']}\")\n",
    "    print(f\"PQ: {pq_score_dist['PQ']}\")\n",
    "\n",
    "if run_hover_postprocess:\n",
    "    aji_score_hover = aji_hover.compute()\n",
    "    pq_score_hover = pq_hover.compute()\n",
    "    print(\"######### HoVer #########\")\n",
    "    print(f\"AJI: {aji_score_hover['AJI']}\")\n",
    "    print(f\"SQ: {pq_score_hover['SQ']}\")\n",
    "    print(f\"DQ: {pq_score_hover['DQ']}\")\n",
    "    print(f\"PQ: {pq_score_hover['PQ']}\")"
   ]
  },
  {
   "cell_type": "markdown",
   "source": [
    "######### HoVer #########\n",
    "No noise suppression!\n",
    "sobel_h = cv2.Sobel(h_map, cv2.CV_64F, 1, 0, ksize=5)\n",
    "sobel_v = cv2.Sobel(v_map, cv2.CV_64F, 0, 1, ksize=5)\n",
    "AJI: 0.8732954263687134\n",
    "SQ: 0.9730230569839478\n",
    "DQ: 0.9455816745758057\n",
    "PQ: 0.9200727939605713\n",
    "######### HoVer #########\n",
    "No noise suppression!\n",
    "sobel_h = farid_h(h_map, mask=seg_mask, mode='full', boundary='fill', fillvalue=0)\n",
    "sobel_v = farid_v(v_map, mask=seg_mask, mode='full', boundary='fill', fillvalue=0)\n",
    "AJI: 0.8898743987083435\n",
    "SQ: 0.9690139293670654\n",
    "DQ: 0.9524402022361755\n",
    "PQ: 0.9229277968406677\n",
    "######### HoVer #########\n",
    "No noise suppression!\n",
    "energy_landscape = (1.0 - combined)\n",
    "AJI: 0.8918822407722473\n",
    "SQ: 0.9797292947769165\n",
    "DQ: 0.9530668258666992\n",
    "PQ: 0.9337474703788757\n",
    "######### HoVer #########\n",
    "No noise suppression!\n",
    "AJI: 0.8866761326789856\n",
    "SQ: 0.9642669558525085\n",
    "DQ: 0.9515339732170105\n",
    "PQ: 0.917532742023468\n",
    "######### AL #########\n",
    "Minimal size: 0\n",
    "AJI: 0.9586374163627625\n",
    "SQ: 0.9694679379463196\n",
    "DQ: 0.9623864889144897\n",
    "PQ: 0.9330028295516968\n",
    "######### AL #########\n",
    "Minimal size: 15\n",
    "AJI: 0.953377366065979\n",
    "SQ: 0.9697842597961426\n",
    "DQ: 0.9579931497573853\n",
    "PQ: 0.9290466904640198\n",
    "######### AL #########\n",
    "Minimal size: 10\n",
    "AJI: 0.9563164114952087\n",
    "SQ: 0.9689503908157349\n",
    "DQ: 0.9578863978385925\n",
    "PQ: 0.9281443953514099\n",
    "######### AL #########\n",
    "Option: skimage\n",
    "Dilate: False\n",
    "AJI: 0.7602019906044006\n",
    "SQ: 0.7199723720550537\n",
    "DQ: 0.8247086405754089\n",
    "PQ: 0.5937674641609192\n",
    "######### AL #########\n",
    "Option: skimage\n",
    "Dilate: True\n",
    "AJI: 0.9552018046379089\n",
    "SQ: 0.9727380275726318\n",
    "DQ: 0.9514009356498718\n",
    "PQ: 0.925463855266571\n",
    "######### AL #########\n",
    "Option: custom\n",
    "AJI: 0.7602019906044006\n",
    "SQ: 0.7199727892875671\n",
    "DQ: 0.8247086405754089\n",
    "PQ: 0.5937677621841431\n",
    "######### DIST #########\n",
    "Parameter: 0\n",
    "Threshold: 0\n",
    "AJI: 0.8587603569030762\n",
    "SQ: 0.9458383321762085\n",
    "DQ: 0.9079502820968628\n",
    "PQ: 0.8587741851806641\n",
    "######### DIST #########\n",
    "Parameter: 1\n",
    "Threshold: 0\n",
    "AJI: 0.9227789044380188\n",
    "SQ: 0.9605621099472046\n",
    "DQ: 0.9713776707649231\n",
    "PQ: 0.933068573474884\n",
    "######### DIST #########\n",
    "Parameter: 2\n",
    "Threshold: 0\n",
    "AJI: 0.891636848449707\n",
    "SQ: 0.9619731903076172\n",
    "DQ: 0.9442554116249084\n",
    "PQ: 0.9083483815193176\n",
    "######### DIST #########\n",
    "Parameter: 3\n",
    "Threshold: 0\n",
    "AJI: 0.8139533996582031\n",
    "SQ: 0.9603028297424316\n",
    "DQ: 0.8777669668197632\n",
    "PQ: 0.8429220914840698\n"
   ],
   "metadata": {
    "collapsed": false,
    "pycharm": {
     "name": "#%% md\n"
    }
   }
  }
 ],
 "metadata": {
  "kernelspec": {
   "display_name": "Python 3 (ipykernel)",
   "language": "python",
   "name": "python3"
  },
  "language_info": {
   "codemirror_mode": {
    "name": "ipython",
    "version": 3
   },
   "file_extension": ".py",
   "mimetype": "text/x-python",
   "name": "python",
   "nbconvert_exporter": "python",
   "pygments_lexer": "ipython3",
   "version": "3.8.10"
  }
 },
 "nbformat": 4,
 "nbformat_minor": 1
}