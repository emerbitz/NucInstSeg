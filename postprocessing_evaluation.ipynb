{
 "cells": [
  {
   "cell_type": "markdown",
   "metadata": {
    "pycharm": {
     "name": "#%% md\n"
    }
   },
   "source": [
    "# Evaluation of postprocessing approaches"
   ]
  },
  {
   "cell_type": "markdown",
   "metadata": {
    "pycharm": {
     "name": "#%% md\n"
    }
   },
   "source": [
    "## Overview\n",
    "In general, nuclei instance segmentation can be formulated as a classification or a regression problem. Hence, the model's objective is to learn a segmentation mask or a distance map for the classification and regression problem, respectively. In a segmentation mask, each pixel is assigned to a certain class. Such a class might be background, nucleus, nucleus center or nucleus border. In a binary segmentation mask, each pixel represents the probability of the pixel belonging to one of the two classes (e.g. nucleus vs. background). In a distance map, each pixel stats the minimal distance between the pixel and a pixel of a certain class. The chessboard distance is commonly used as distance measure. However, other distance measures like the Manhattan or Euclidian distance could be used as well. Moreover, the distance might be calculated along a certain direction and the distance map normalized. A collection of possible design choices for segmentation masks and distance maps is presented below.\n",
    "\n",
    "**Segmentation mask S**\n",
    "- Classes: Background, nucleus, nucleus contour, nucleus border etc.\n",
    "\n",
    "**Distance map D**\n",
    "- Distance measure: Manhattan distance, Chessboard distance, Euclidian distance etc.\n",
    "- Direction: None, vertical, horizontal, etc.\n",
    "- Normalization: None, per-instance-normalized, per-image-normalized, per-dataset-normalized\n",
    "- Classes: Background, nucleus, nucleus center, nucleus contour etc.\n",
    "\n",
    "The individual design choices and the combination of multiple segmentation masks or distances maps allow for different postprocessing strategies.\n",
    "- S(nucleus): Morphological operations (opening etc.), watershed, clustering, (MDL-constrained) periodic B-splines, Leonidas Spaß etc.\n",
    "- S(nucleus), S(contour): S(nucleus) & ~S(contours) -> watershed (-> dilation/h-maxima reconstruction)"
   ]
  },
  {
   "cell_type": "markdown",
   "metadata": {
    "pycharm": {
     "name": "#%% md\n"
    }
   },
   "source": [
    "## Aim\n",
    "Here, a qualitative and quantitative evaluation of the following postprocessing approaches is presented:\n",
    "- Standard: S(nucleus) & ~S(contours)\n",
    "- Naylor et al. 2019: D(background) using dynamic watershed\n",
    "- HoVer-Net et al. 2019: D_v and D_h"
   ]
  },
  {
   "cell_type": "code",
   "execution_count": 1,
   "metadata": {
    "pycharm": {
     "name": "#%%\n"
    },
    "ExecuteTime": {
     "end_time": "2023-05-22T10:11:34.458323500Z",
     "start_time": "2023-05-22T10:11:29.302230300Z"
    }
   },
   "outputs": [],
   "source": [
    "import torch\n",
    "from tqdm import tqdm\n",
    "from torch import Tensor\n",
    "\n",
    "from data.MoNuSeg.data_module import MoNuSegDataModule\n",
    "from evaluation.metrics import DSC, AJI, ModAJI, PQ\n",
    "from postprocessing.postprocesses import SegPostProcess, DistPostProcess, HVPostProcess\n",
    "from data.MoNuSeg.ground_truth import NucleiInstances\n",
    "from data.MoNuSeg.illustrator import Picture"
   ]
  },
  {
   "cell_type": "code",
   "execution_count": 2,
   "metadata": {
    "pycharm": {
     "name": "#%%\n"
    },
    "ExecuteTime": {
     "end_time": "2023-05-22T10:11:34.490568700Z",
     "start_time": "2023-05-22T10:11:34.467319600Z"
    }
   },
   "outputs": [],
   "source": [
    "data_module = MoNuSegDataModule(\n",
    "    seg_masks=True,\n",
    "    cont_masks=True,\n",
    "    dist_maps=True,\n",
    "    hv_maps=True,\n",
    "    labels=False,\n",
    "    train_transforms=None,\n",
    "    data_root=\"datasets\"\n",
    ")\n",
    "data_module.setup(stage=\"fit\")\n",
    "train_loader = data_module.train_dataloader()"
   ]
  },
  {
   "cell_type": "code",
   "execution_count": 4,
   "outputs": [
    {
     "name": "stderr",
     "output_type": "stream",
     "text": [
      " 12%|█▎        | 3/24 [07:35<53:09, 151.89s/it]\n"
     ]
    },
    {
     "ename": "KeyboardInterrupt",
     "evalue": "",
     "output_type": "error",
     "traceback": [
      "\u001B[1;31m---------------------------------------------------------------------------\u001B[0m",
      "\u001B[1;31mKeyboardInterrupt\u001B[0m                         Traceback (most recent call last)",
      "Cell \u001B[1;32mIn[4], line 30\u001B[0m\n\u001B[0;32m     28\u001B[0m     pred_inst \u001B[38;5;241m=\u001B[39m al_postprocess(seg_masks, cont_masks)\n\u001B[0;32m     29\u001B[0m     \u001B[38;5;28;01mfor\u001B[39;00m m \u001B[38;5;129;01min\u001B[39;00m al_metrics:\n\u001B[1;32m---> 30\u001B[0m         \u001B[43mm\u001B[49m\u001B[38;5;241;43m.\u001B[39;49m\u001B[43mupdate\u001B[49m\u001B[43m(\u001B[49m\u001B[43mpred_inst\u001B[49m\u001B[43m,\u001B[49m\u001B[43m \u001B[49m\u001B[43mgt_inst\u001B[49m\u001B[43m)\u001B[49m\n\u001B[0;32m     32\u001B[0m \u001B[38;5;28;01mif\u001B[39;00m dist_metrics:\n\u001B[0;32m     33\u001B[0m     pred_inst \u001B[38;5;241m=\u001B[39m dist_postprocess(dist_maps)\n",
      "File \u001B[1;32m~\\PycharmProjects\\NucInstSeg\\venv\\lib\\site-packages\\torchmetrics\\metric.py:389\u001B[0m, in \u001B[0;36mMetric._wrap_update.<locals>.wrapped_func\u001B[1;34m(*args, **kwargs)\u001B[0m\n\u001B[0;32m    387\u001B[0m \u001B[38;5;28;01mwith\u001B[39;00m torch\u001B[38;5;241m.\u001B[39mset_grad_enabled(\u001B[38;5;28mself\u001B[39m\u001B[38;5;241m.\u001B[39m_enable_grad):\n\u001B[0;32m    388\u001B[0m     \u001B[38;5;28;01mtry\u001B[39;00m:\n\u001B[1;32m--> 389\u001B[0m         \u001B[43mupdate\u001B[49m\u001B[43m(\u001B[49m\u001B[38;5;241;43m*\u001B[39;49m\u001B[43margs\u001B[49m\u001B[43m,\u001B[49m\u001B[43m \u001B[49m\u001B[38;5;241;43m*\u001B[39;49m\u001B[38;5;241;43m*\u001B[39;49m\u001B[43mkwargs\u001B[49m\u001B[43m)\u001B[49m\n\u001B[0;32m    390\u001B[0m     \u001B[38;5;28;01mexcept\u001B[39;00m \u001B[38;5;167;01mRuntimeError\u001B[39;00m \u001B[38;5;28;01mas\u001B[39;00m err:\n\u001B[0;32m    391\u001B[0m         \u001B[38;5;28;01mif\u001B[39;00m \u001B[38;5;124m\"\u001B[39m\u001B[38;5;124mExpected all tensors to be on\u001B[39m\u001B[38;5;124m\"\u001B[39m \u001B[38;5;129;01min\u001B[39;00m \u001B[38;5;28mstr\u001B[39m(err):\n",
      "File \u001B[1;32m~\\PycharmProjects\\NucInstSeg\\evaluation\\metrics_base.py:22\u001B[0m, in \u001B[0;36mScore.update\u001B[1;34m(self, preds, target)\u001B[0m\n\u001B[0;32m     19\u001B[0m         \u001B[38;5;28;01mraise\u001B[39;00m \u001B[38;5;167;01mValueError\u001B[39;00m(\u001B[38;5;124mf\u001B[39m\u001B[38;5;124m\"\u001B[39m\u001B[38;5;124mPreds should match the number of items in target. Got instead \u001B[39m\u001B[38;5;132;01m{\u001B[39;00m\u001B[38;5;28mlen\u001B[39m(preds)\u001B[38;5;132;01m}\u001B[39;00m\u001B[38;5;124m and \u001B[39m\u001B[38;5;124m\"\u001B[39m\n\u001B[0;32m     20\u001B[0m                          \u001B[38;5;124mf\u001B[39m\u001B[38;5;124m\"\u001B[39m\u001B[38;5;132;01m{\u001B[39;00m\u001B[38;5;28mlen\u001B[39m(target)\u001B[38;5;132;01m}\u001B[39;00m\u001B[38;5;124m items for preds and target, respectively.\u001B[39m\u001B[38;5;124m\"\u001B[39m)\n\u001B[0;32m     21\u001B[0m     \u001B[38;5;28;01mfor\u001B[39;00m pred_inst, gt_inst \u001B[38;5;129;01min\u001B[39;00m \u001B[38;5;28mzip\u001B[39m(preds, target):\n\u001B[1;32m---> 22\u001B[0m         \u001B[38;5;28;43mself\u001B[39;49m\u001B[38;5;241;43m.\u001B[39;49m\u001B[43mevaluate\u001B[49m\u001B[43m(\u001B[49m\u001B[43mpred_inst\u001B[49m\u001B[38;5;241;43m=\u001B[39;49m\u001B[43mpred_inst\u001B[49m\u001B[43m,\u001B[49m\u001B[43m \u001B[49m\u001B[43mgt_inst\u001B[49m\u001B[38;5;241;43m=\u001B[39;49m\u001B[43mgt_inst\u001B[49m\u001B[43m)\u001B[49m\n\u001B[0;32m     23\u001B[0m \u001B[38;5;28;01melif\u001B[39;00m \u001B[38;5;28misinstance\u001B[39m(preds, Tensor):  \u001B[38;5;66;03m# Batch size = 1\u001B[39;00m\n\u001B[0;32m     24\u001B[0m     \u001B[38;5;28mself\u001B[39m\u001B[38;5;241m.\u001B[39mevaluate(pred_inst\u001B[38;5;241m=\u001B[39mpreds, gt_inst\u001B[38;5;241m=\u001B[39mtarget)\n",
      "File \u001B[1;32m~\\PycharmProjects\\NucInstSeg\\evaluation\\metrics.py:98\u001B[0m, in \u001B[0;36mevaluate\u001B[1;34m(self, pred_inst, gt_inst)\u001B[0m\n\u001B[0;32m     96\u001B[0m device \u001B[38;5;241m=\u001B[39m pred_inst\u001B[38;5;241m.\u001B[39mdevice\n\u001B[0;32m     97\u001B[0m num_pred \u001B[38;5;241m=\u001B[39m pred_inst\u001B[38;5;241m.\u001B[39mshape[\u001B[38;5;241m0\u001B[39m]\n\u001B[1;32m---> 98\u001B[0m num_gt \u001B[38;5;241m=\u001B[39m gt_inst\u001B[38;5;241m.\u001B[39mshape[\u001B[38;5;241m0\u001B[39m]\n\u001B[0;32m     99\u001B[0m pairwise_inter \u001B[38;5;241m=\u001B[39m torch\u001B[38;5;241m.\u001B[39mzeros((num_pred, num_gt), dtype\u001B[38;5;241m=\u001B[39mtorch\u001B[38;5;241m.\u001B[39mint, device\u001B[38;5;241m=\u001B[39mdevice)\n\u001B[0;32m    100\u001B[0m pairwise_union \u001B[38;5;241m=\u001B[39m torch\u001B[38;5;241m.\u001B[39mzeros((num_pred, num_gt), dtype\u001B[38;5;241m=\u001B[39mtorch\u001B[38;5;241m.\u001B[39mint, device\u001B[38;5;241m=\u001B[39mdevice)\n",
      "File \u001B[1;32m~\\PycharmProjects\\NucInstSeg\\evaluation\\utils.py:26\u001B[0m, in \u001B[0;36mtensor_intersection\u001B[1;34m(a, b)\u001B[0m\n\u001B[0;32m     23\u001B[0m \u001B[38;5;28;01mif\u001B[39;00m a\u001B[38;5;241m.\u001B[39msize() \u001B[38;5;241m!=\u001B[39m b\u001B[38;5;241m.\u001B[39msize():\n\u001B[0;32m     24\u001B[0m     \u001B[38;5;28;01mraise\u001B[39;00m \u001B[38;5;167;01mValueError\u001B[39;00m(\n\u001B[0;32m     25\u001B[0m         \u001B[38;5;124mf\u001B[39m\u001B[38;5;124m\"\u001B[39m\u001B[38;5;124mA and b must have the same shape. However got \u001B[39m\u001B[38;5;132;01m{\u001B[39;00ma\u001B[38;5;241m.\u001B[39msize()\u001B[38;5;132;01m}\u001B[39;00m\u001B[38;5;124m and \u001B[39m\u001B[38;5;132;01m{\u001B[39;00mb\u001B[38;5;241m.\u001B[39msize()\u001B[38;5;132;01m}\u001B[39;00m\u001B[38;5;124m for a and b, respectively.\u001B[39m\u001B[38;5;124m\"\u001B[39m)\n\u001B[1;32m---> 26\u001B[0m \u001B[38;5;28;01mreturn\u001B[39;00m \u001B[43mtorch\u001B[49m\u001B[38;5;241;43m.\u001B[39;49m\u001B[43msum\u001B[49m\u001B[43m(\u001B[49m\u001B[43ma\u001B[49m\u001B[43m \u001B[49m\u001B[38;5;241;43m*\u001B[39;49m\u001B[43m \u001B[49m\u001B[43mb\u001B[49m\u001B[43m)\u001B[49m\n",
      "\u001B[1;31mKeyboardInterrupt\u001B[0m: "
     ]
    }
   ],
   "source": [
    "param, thresh = 3, 0\n",
    "al_metrics = [\n",
    "    DSC(),\n",
    "    AJI(),\n",
    "    ModAJI(),\n",
    "    PQ()\n",
    "]\n",
    "dist_metrics = [\n",
    "    DSC(),\n",
    "    AJI(),\n",
    "    ModAJI(),\n",
    "    PQ()\n",
    "]\n",
    "hover_metrics = [\n",
    "    DSC(),\n",
    "    AJI(),\n",
    "    ModAJI(),\n",
    "    PQ()\n",
    "]\n",
    "\n",
    "#########################################################################\n",
    "al_postprocess = SegPostProcess()\n",
    "dist_postprocess = DistPostProcess(param=param, thresh=thresh)\n",
    "hover_postprocess = HVPostProcess()\n",
    "\n",
    "for imgs, seg_masks, cont_masks, dist_maps, hv_maps, gt_inst in tqdm(train_loader):\n",
    "    if al_metrics:\n",
    "        pred_inst = al_postprocess(seg_masks, cont_masks)\n",
    "        for m in al_metrics:\n",
    "            m.update(pred_inst, gt_inst)\n",
    "\n",
    "    if dist_metrics:\n",
    "        pred_inst = dist_postprocess(dist_maps)\n",
    "        for m in dist_metrics:\n",
    "            m.update(pred_inst, gt_inst)\n",
    "\n",
    "    if hover_metrics:\n",
    "        pred_inst = hover_postprocess(hv_maps, seg_masks)\n",
    "        for m in hover_metrics:\n",
    "            m.update(pred_inst, gt_inst)\n",
    "\n",
    "if al_metrics:\n",
    "    print(\"######### AL #########\")\n",
    "    for m in al_metrics:\n",
    "        score = m.compute()\n",
    "        for name, value in score.items():\n",
    "            print(f\"{name}: {value}\")\n",
    "\n",
    "if dist_metrics:\n",
    "    print(\"######### Dist #########\")\n",
    "    for m in dist_metrics:\n",
    "        score = m.compute()\n",
    "        for name, value in score.items():\n",
    "            print(f\"{name}: {value}\")\n",
    "\n",
    "if hover_metrics:\n",
    "    print(\"######### HoVer #########\")\n",
    "    for m in hover_metrics:\n",
    "        score = m.compute()\n",
    "        for name, value in score.items():\n",
    "            print(f\"{name}: {value}\")"
   ],
   "metadata": {
    "collapsed": false,
    "ExecuteTime": {
     "end_time": "2023-05-22T11:29:52.833354600Z",
     "start_time": "2023-05-22T11:22:15.204020800Z"
    }
   }
  },
  {
   "cell_type": "markdown",
   "source": [
    "ignore_index=0\n",
    "######### AL #########\n",
    "TP: 2665371, FP: 896, FN: 9160\n",
    "DSC: 0.9981171488761902\n",
    "######### Dist #########\n",
    "TP: 2581653, FP: 0, FN: 92878\n",
    "DSC: 0.982329785823822\n",
    "######### HoVer #########\n",
    "TP: 2658979, FP: 0, FN: 15552\n",
    "DSC: 0.9970840811729431\n",
    "\n",
    "######### AL #########\n",
    "TP: 12573732, FP: 9180, FN: 9180\n",
    "DSC: 0.9992704391479492\n",
    "######### Dist #########\n",
    "TP: 12493037, FP: 89875, FN: 89875\n",
    "DSC: 0.9928573966026306\n",
    "######### HoVer #########\n",
    "TP: 12568608, FP: 14304, FN: 14304\n",
    "DSC: 0.9988632202148438"
   ],
   "metadata": {
    "collapsed": false
   }
  },
  {
   "cell_type": "markdown",
   "metadata": {
    "pycharm": {
     "name": "#%% md\n"
    }
   },
   "source": [
    "######### HoVer #########\n",
    "No noise suppression!\n",
    "sobel_h = cv2.Sobel(h_map, cv2.CV_64F, 1, 0, ksize=5)\n",
    "sobel_v = cv2.Sobel(v_map, cv2.CV_64F, 0, 1, ksize=5)\n",
    "AJI: 0.8732954263687134\n",
    "SQ: 0.9730230569839478\n",
    "DQ: 0.9455816745758057\n",
    "PQ: 0.9200727939605713\n",
    "######### HoVer #########\n",
    "No noise suppression!\n",
    "sobel_h = farid_h(h_map, mask=seg_mask, mode='full', boundary='fill', fillvalue=0)\n",
    "sobel_v = farid_v(v_map, mask=seg_mask, mode='full', boundary='fill', fillvalue=0)\n",
    "AJI: 0.8898743987083435\n",
    "SQ: 0.9690139293670654\n",
    "DQ: 0.9524402022361755\n",
    "PQ: 0.9229277968406677\n",
    "######### HoVer #########\n",
    "No noise suppression!\n",
    "energy_landscape = (1.0 - combined)\n",
    "AJI: 0.8918822407722473\n",
    "SQ: 0.9797292947769165\n",
    "DQ: 0.9530668258666992\n",
    "PQ: 0.9337474703788757\n",
    "######### HoVer #########\n",
    "No noise suppression!\n",
    "AJI: 0.8866761326789856\n",
    "SQ: 0.9642669558525085\n",
    "DQ: 0.9515339732170105\n",
    "PQ: 0.917532742023468\n",
    "######### AL #########\n",
    "Minimal size: 0\n",
    "AJI: 0.9586374163627625\n",
    "SQ: 0.9694679379463196\n",
    "DQ: 0.9623864889144897\n",
    "PQ: 0.9330028295516968\n",
    "######### AL #########\n",
    "Minimal size: 15\n",
    "AJI: 0.953377366065979\n",
    "SQ: 0.9697842597961426\n",
    "DQ: 0.9579931497573853\n",
    "PQ: 0.9290466904640198\n",
    "######### AL #########\n",
    "Minimal size: 10\n",
    "AJI: 0.9563164114952087\n",
    "SQ: 0.9689503908157349\n",
    "DQ: 0.9578863978385925\n",
    "PQ: 0.9281443953514099\n",
    "######### AL #########\n",
    "Option: skimage\n",
    "Dilate: False\n",
    "AJI: 0.7602019906044006\n",
    "SQ: 0.7199723720550537\n",
    "DQ: 0.8247086405754089\n",
    "PQ: 0.5937674641609192\n",
    "######### AL #########\n",
    "Option: skimage\n",
    "Dilate: True\n",
    "AJI: 0.9552018046379089\n",
    "SQ: 0.9727380275726318\n",
    "DQ: 0.9514009356498718\n",
    "PQ: 0.925463855266571\n",
    "######### AL #########\n",
    "Option: custom\n",
    "AJI: 0.7602019906044006\n",
    "SQ: 0.7199727892875671\n",
    "DQ: 0.8247086405754089\n",
    "PQ: 0.5937677621841431\n",
    "######### DIST #########\n",
    "Parameter: 0\n",
    "Threshold: 0\n",
    "AJI: 0.8587603569030762\n",
    "SQ: 0.9458383321762085\n",
    "DQ: 0.9079502820968628\n",
    "PQ: 0.8587741851806641\n",
    "######### DIST #########\n",
    "Parameter: 1\n",
    "Threshold: 0\n",
    "AJI: 0.9227789044380188\n",
    "SQ: 0.9605621099472046\n",
    "DQ: 0.9713776707649231\n",
    "PQ: 0.933068573474884\n",
    "######### DIST #########\n",
    "Parameter: 2\n",
    "Threshold: 0\n",
    "AJI: 0.891636848449707\n",
    "SQ: 0.9619731903076172\n",
    "DQ: 0.9442554116249084\n",
    "PQ: 0.9083483815193176\n",
    "######### DIST #########\n",
    "Parameter: 3\n",
    "Threshold: 0\n",
    "AJI: 0.8139533996582031\n",
    "SQ: 0.9603028297424316\n",
    "DQ: 0.8777669668197632\n",
    "PQ: 0.8429220914840698\n"
   ]
  }
 ],
 "metadata": {
  "kernelspec": {
   "display_name": "Python 3 (ipykernel)",
   "language": "python",
   "name": "python3"
  },
  "language_info": {
   "codemirror_mode": {
    "name": "ipython",
    "version": 3
   },
   "file_extension": ".py",
   "mimetype": "text/x-python",
   "name": "python",
   "nbconvert_exporter": "python",
   "pygments_lexer": "ipython3",
   "version": "3.8.10"
  }
 },
 "nbformat": 4,
 "nbformat_minor": 1
}
